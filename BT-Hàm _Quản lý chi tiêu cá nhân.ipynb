{
 "cells": [
  {
   "cell_type": "markdown",
   "id": "a74f713f",
   "metadata": {},
   "source": [
    "Viết chương trình cho phép người dùng thêm hoặc xoá các mục chi tiêu cá nhân và in ra các mục chi tiêu đó. Mục chi tiêu bao gồm: tên, giá trị chi và ngày chi"
   ]
  },
  {
   "cell_type": "code",
   "execution_count": 6,
   "id": "b1b59276",
   "metadata": {},
   "outputs": [
    {
     "name": "stdout",
     "output_type": "stream",
     "text": [
      "What do you want to do? -\n",
      "1. Add\n",
      "2. Remove\n",
      "Select option 1 or 2: 2\n",
      "Item name: 1\n",
      "1 not in list\n",
      "Your expenses:  [{'name': 'xang', 'cost': 33000, 'date': '21/6'}, {'name': 'a', 'cost': 1, 'date': '1'}]\n"
     ]
    }
   ],
   "source": [
    "\n",
    "# Thêm item vào list\n",
    "def add_item(myTempList, item):    \n",
    "    myTempList.append(item)\n",
    "    \n",
    "# Tìm index của phần tử trong chuỗi    \n",
    "def find_index_item(myTempList, item_name):\n",
    "    result = -1\n",
    "    length = len(myTempList)\n",
    "    for i in range(length):\n",
    "        if myTempList[i]['name'] == item_name:\n",
    "            result = i\n",
    "    return result\n",
    "\n",
    "# Tạo hàm xoá phần tử \n",
    "def remove_item(myTempList, item_name):\n",
    "    if find_index_item(myTempList, item_name) > -1:\n",
    "        del myTempList[find_index_item(myTempList, item_name)]\n",
    "    else:\n",
    "        print(item_name + \" not in list\")\n",
    "\n",
    "# In chi tiêu hiện tại và lấy yêu cầu muốn xoá hay thêm dữ liệu\n",
    "\n",
    "expenses = [{'name': 'xang', 'cost': 33000, 'date': '21/6'}, {'name': 'a', 'cost': 1, 'date': '1'}]\n",
    "\n",
    "print(\"What do you want to do? -\\n\"\\\n",
    "        \"1. Add\\n\" \\\n",
    "        \"2. Remove\")    \n",
    "\n",
    "option = int(input(\"Select option 1 or 2: \"))\n",
    "name_input = input(\"Item name: \")\n",
    "\n",
    "if option == 1:\n",
    "    cost_input = int(input(\"Item cost: \"))\n",
    "    date_input = input(\"Date: \")\n",
    "    item = {'name': name_input, 'cost':cost_input, 'date':date_input}\n",
    "    add_item(expenses, item)\n",
    "    print(\"Your expenses: \", expenses)\n",
    "elif option == 2:\n",
    "    remove_item(expenses, name_input)\n",
    "    print(\"Your expenses: \", expenses)\n",
    "else:\n",
    "    print(\"Invalid input\")"
   ]
  }
 ],
 "metadata": {
  "kernelspec": {
   "display_name": "Python 3 (ipykernel)",
   "language": "python",
   "name": "python3"
  },
  "language_info": {
   "codemirror_mode": {
    "name": "ipython",
    "version": 3
   },
   "file_extension": ".py",
   "mimetype": "text/x-python",
   "name": "python",
   "nbconvert_exporter": "python",
   "pygments_lexer": "ipython3",
   "version": "3.10.4"
  }
 },
 "nbformat": 4,
 "nbformat_minor": 5
}
